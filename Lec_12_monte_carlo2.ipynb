{
 "cells": [
  {
   "cell_type": "markdown",
   "metadata": {},
   "source": [
    "# Physics 300 \n",
    "## Computational Physics I (Fall 2018)\n",
    "## BPB-248, Mon/Wed 02:30 - 03:45 pm \n",
    "\n",
    "|Instructor| Prof. Qiang Zhu|\n",
    "|--|-------------------------------|\n",
    "|Email | qiang.zhu@unlv.edu|\n",
    "|Website|http://www.physics.unlv.edu/~qzhu/|\n",
    "|Office| BPB 232|\n",
    "|Office hours | Mon/Wed 03:45 - 05:00 pm |\n"
   ]
  },
  {
   "cell_type": "markdown",
   "metadata": {},
   "source": [
    "# 12 Monte Carlo\n",
    "\n",
    "We have introduced the Monte Carlo methods in the last lecture. It is not a very good one for doing integrals.\n",
    "There are significantly better ways to perform the calculation, the most common of which is the _mean value method_.\n",
    "\n",
    "## 12.1 The Mean value method\n",
    "\n",
    "Let's take a general integration problem: \n",
    "\n",
    "$$ I = \\int_a^b f(x)dx $$\n",
    "\n",
    "The average value of $f(x)$ in the range from $a$ to $b$ is by definition\n",
    "\n",
    "$$ <f> = \\frac{1}{b-a}\\int_a^b f(x)dx = \\frac{I}{b-a} $$\n",
    "\n",
    "Thus\n",
    "\n",
    "$$ I = (b-a)<f> $$\n",
    "\n",
    "If we can estimate <f> then we can estimate $I$. A simple way to estimate <f> is just to measure $f(x)$\n",
    "at $N$ points $x_1, x_2 .... x_N$ chosen uniformly at random between $a$ and $b$, and then calculate\n",
    "$<f> \\approx N^{-1} \\sum^N_{i=1} f(x_i)$,  \n",
    "\n",
    "$$ I \\approx \\frac{b-a}{N} \\sum^N_{i=1} f(x_i)$$\n",
    "\n",
    "This is the fundamental formula for the mean value method. As with the previous method, it gives only an approximate\n",
    "estimate of the integral. How accurate is it? We can estimate the error using standard results for the behavior\n",
    "of random variable which tell us that the variance on the sum of $N$ independent random numbers - no matter what\n",
    "their distribution - is equal to $N$ times the variance on a single one.\n",
    "\n",
    "$$ f = <f^2> - <f>^2 $$\n",
    "in which\n",
    "$$ <f> = \\frac{1}{N} \\sum_{i=1}^N f(x_i)$$\n",
    "$$ <f^2> = \\frac{1}{N} \\sum_{i=1}^N [f(x_i)]^2$$\n",
    "\n",
    "Then the variance on the sum is $N$ times the variance on a single term. Finally, we get the standard deviation on $I$,\n",
    "\n",
    "$$ \\sigma = \\frac{b-a}{N} \\frac{\\sqrt{\\text{var}f}} {\\sqrt{N}} $$\n",
    "\n",
    "Thus, the errors goes as 1/$\\sqrt{N}$. However, the leading constant is smaller, which means the method is always\n",
    "more accurate than the previous method.\n"
   ]
  },
  {
   "cell_type": "code",
   "execution_count": 1,
   "metadata": {},
   "outputs": [],
   "source": [
    "# MC intergral\n",
    "import matplotlib.pyplot as plt\n",
    "from math import sin\n",
    "from random import random\n",
    "\n",
    "def f(x):\n",
    "    return sin(1/x/(2-x))**2\n",
    "\n",
    "def MC1(N):\n",
    "    count = 0\n",
    "    for i in range(N):\n",
    "        x = 2*random()\n",
    "        y = random()\n",
    "        if y<f(x):\n",
    "            count += 1\n",
    "    I = 2*count/N\n",
    "    return I\n",
    "\n",
    "\n",
    "def MC2(N):\n",
    "    I = 0\n",
    "    for i in range(N):\n",
    "        x = 2*random()\n",
    "        I += f(x)\n",
    "\n",
    "    return I/N*2"
   ]
  },
  {
   "cell_type": "code",
   "execution_count": 2,
   "metadata": {},
   "outputs": [
    {
     "name": "stdout",
     "output_type": "stream",
     "text": [
      "1.472\n",
      "1.4606935724606758\n"
     ]
    }
   ],
   "source": [
    "print(MC1(1000))\n",
    "print(MC2(1000))"
   ]
  },
  {
   "cell_type": "markdown",
   "metadata": {},
   "source": [
    "## 12.2 Integrals in high dimensions\n",
    "\n",
    "In addition to the intergration of pathological functions, Monte Carlo integration is used for performing\n",
    "high dimensional integrals. As we saw in the previous section, performing an integral over two variables\n",
    "by standard grid of points such as trapezoidal rule requires us to take samples on a two-dimensional grid.\n",
    "If we have an integral over four dimensions or even higher, then the number of points on the grid can \n",
    "become very slow and impractical. Instead, Monte Carlo in high dimension is an obvious extension of the \n",
    "technique in one dimension. The integral of a function $f(r)$ over a volume $V$ in a high-dimensional space\n",
    "is given by the generalization:\n",
    "\n",
    "$$ I = \\frac{V}{N} \\sum_{i=1}^{N}f(r_i)$$\n",
    "\n",
    "where the points $r$ are picked uniformly at random from the volume $V$.\n",
    "\n",
    "An important application of this type of integral is in financial mathematics. This is widely used for \n",
    "predicting the values of stocks, which requires the evaluation of integrals over many variables. Such\n",
    "information could be used to instruct the quick trading decisions. This is why stastical physicists\n",
    "were popular in Wall Street!"
   ]
  },
  {
   "cell_type": "markdown",
   "metadata": {},
   "source": [
    "## 12.3 Importance sampling\n",
    "\n",
    "Monte Carlo is useful for integrating pathological functions. However, it is still not good for some cases. \n",
    "In particular, it gives problems if the function contains a divergence. For example,\n",
    "\n",
    "$$ I = \\int_0 ^1 \\frac{x^{-1/2}}{e^x + 1} dx $$"
   ]
  },
  {
   "cell_type": "code",
   "execution_count": 9,
   "metadata": {},
   "outputs": [
    {
     "name": "stderr",
     "output_type": "stream",
     "text": [
      "/Users/qiangzhu/.pyenv/versions/3.7.0/Python.framework/Versions/3.7/lib/python3.7/site-packages/ipykernel_launcher.py:10: RuntimeWarning: divide by zero encountered in true_divide\n",
      "  # Remove the CWD from sys.path while we load stuff.\n"
     ]
    },
    {
     "data": {
      "image/png": "[encoded data removed]",
      "text/plain": [
       "<Figure size 432x288 with 1 Axes>"
      ]
     },
     "metadata": {
      "needs_background": "light"
     },
     "output_type": "display_data"
    }
   ],
   "source": [
    "%matplotlib inline  \n",
    "\n",
    "# Divergence problem\n",
    "import matplotlib.pyplot as plt\n",
    "import numpy as np\n",
    "from math import pi\n",
    "\n",
    "\n",
    "def f(x):\n",
    "    return 1/np.sqrt(x)/(np.exp(x)+1)\n",
    "\n",
    "x = np.linspace(0,1,100)\n",
    "plt.plot(x, f(x))\n",
    "plt.show()"
   ]
  },
  {
   "cell_type": "markdown",
   "metadata": {},
   "source": [
    "If you try to do it using the mean value method, you will run into problems becuase the value of f(x) diverges when x is approaching to 0. This means that the estimated integral could go up and down without convergence.\n",
    "\n",
    "We can get around these problems by drawing our points x `non-uniformly`. This technique is called `importance sampling`. For any general functions $g(x)$ we can define a weighted average over the interval from $a$ to $b$ thus:\n",
    "\n",
    "$$ \\langle g \\rangle_w = \\frac{\\int_a^b w(x)g(x)dx}{\\int_a^b w(x)dx} $$\n",
    "\n",
    "where $w(x)$ is any function we choose. Now consider the general 1d integral:\n",
    "\n",
    "$$ I = \\int_a^b f(x)dx $$\n",
    "\n",
    "Setting g(x)=f(x)/w(x), we have\n",
    "$$ \n",
    "\\begin{aligned}\n",
    "\\bigg \\langle \\frac{f(x)}{w(x)} \\bigg \\rangle _w= & \\frac{\\int_a^b w(x)f(x)/w(x)dx}{\\int_a^b w(x)dx} \\\\\n",
    "                      = & \\frac{\\int_a^b f(x)dx}{\\int_a^b w(x)dx}\\\\\n",
    "                      = & \\frac{I}{\\int_a^b w(x)dx}\n",
    "\\end{aligned}\n",
    "$$\n",
    "\n",
    "So\n",
    "$$ I = \\bigg \\langle \\frac{f(x)}{w(x)} \\bigg \\rangle _w \\int_a^b w(x)dx$$\n",
    "\n",
    "This formula is similar to what we have for the mean value method. But it allows us to calculate the value\n",
    "of the integral from a weighted average, rather than a standard uniform average. \n",
    "\n",
    "Now we need to solve the $\\langle \\frac{f(x)}{w(x)} \\rangle _w$. Let's define a probability function\n",
    "\n",
    "$$ p(x) = \\frac{w(x)}{\\int_a^b w(x)dx} $$\n",
    "\n",
    "The average number of samples that fall in this interval is $Np(x)dx$, so for any function g(x)\n",
    "\n",
    "$$\\sum_{i=1}^Ng(x_i) \\approx \\int_a^b Np(x)g(x)dx$$\n",
    "\n",
    "Using this result, we can now write the general weighted average of the function g(x) as\n",
    "\n",
    "$$\n",
    "\\begin{aligned}\n",
    "\\langle g \\rangle_w = &\\frac{\\int_a^b w(x)g(x)dx}{\\int_a^b w(x)dx} \\\\ \n",
    "                    = &\\int_a^b p(x)g(x)dx \\\\\n",
    "              \\approx & \\frac{1}{N} \\sum_{i=1}^N g(x_i)    \n",
    "\\end{aligned}\n",
    "$$\n",
    "\n",
    "We then get \n",
    "\n",
    "$$ I \\approx  \\frac{1}{N} \\sum_{i=1}^{N} \\frac{f(x_i)}{w(x_i)} \\int_a^b w(x)dx$$\n",
    "\n",
    "In order to calculate it, we need to get the `tranformation` from uniform $x$ to weighted $x_i$.\n",
    "\n",
    "- Search for the weight founction $w(x)$\n",
    "- find the probability function $p(x)$ and then the cumulative distribution function $F(x)$\n",
    "- Inverse transform sampling to $F^{-1}(x)$\n",
    "- averge $f(x)/w(x)$ in the points generated from $F^{-1}(x)$"
   ]
  },
  {
   "cell_type": "markdown",
   "metadata": {},
   "source": [
    "## 12.4 Homework\n",
    "\n",
    "- 1. Calculate a value for the integral\n",
    "\n",
    "$$ I = \\int_0 ^1 \\frac{x^{-1/2}}{e^x + 1} dx $$\n",
    "\n",
    "using the importance sampling method with $w(x) = x^{-1/2}$, with 1,000,000 random points.\n",
    "\n",
    "- 2. Calculate a value for the integral\n",
    "\n",
    "$$ I = \\int_0 ^1 \\frac{x^{-1}}{e^x + 1} dx $$\n",
    "\n",
    "using the importance sampling method with $w(x) = 1/x$, with 1,000,000 random points."
   ]
  },
  {
   "cell_type": "code",
   "execution_count": 1,
   "metadata": {},
   "outputs": [
    {
     "name": "stderr",
     "output_type": "stream",
     "text": [
      "/Users/qiangzhu/.pyenv/versions/3.7.0/Python.framework/Versions/3.7/lib/python3.7/site-packages/ipykernel_launcher.py:10: RuntimeWarning: divide by zero encountered in true_divide\n",
      "  # Remove the CWD from sys.path while we load stuff.\n",
      "/Users/qiangzhu/.pyenv/versions/3.7.0/Python.framework/Versions/3.7/lib/python3.7/site-packages/ipykernel_launcher.py:14: RuntimeWarning: divide by zero encountered in true_divide\n",
      "  \n"
     ]
    },
    {
     "data": {
      "image/png": "[encoded data removed]",
      "text/plain": [
       "<Figure size 432x288 with 1 Axes>"
      ]
     },
     "metadata": {
      "needs_background": "light"
     },
     "output_type": "display_data"
    }
   ],
   "source": [
    "%matplotlib inline  \n",
    "\n",
    "# Divergence problem\n",
    "import matplotlib.pyplot as plt\n",
    "import numpy as np\n",
    "from math import pi\n",
    "\n",
    "\n",
    "f = lambda x: 1/x/(np.exp(x)+1)\n",
    "w = lambda x: 1/x\n",
    "const = quad(w, 0, 1)[0]\n",
    "p = lambda x: np.exp(const*x)\n",
    "\n",
    "x = np.linspace(0,1,100)\n",
    "plt.plot(x, f(x), label='f(x)')\n",
    "plt.plot(x, w(x), label='w(x)')\n",
    "\n",
    "\n",
    "plt.legend()\n",
    "plt.show()"
   ]
  },
  {
   "cell_type": "code",
   "execution_count": 2,
   "metadata": {},
   "outputs": [
    {
     "name": "stdout",
     "output_type": "stream",
     "text": [
      "from scipy:  0.8389329600133838\n"
     ]
    }
   ],
   "source": [
    "from scipy.integrate import quad\n",
    "print('from scipy: ', quad(f, 0, 1)[0])\n"
   ]
  },
  {
   "cell_type": "code",
   "execution_count": 3,
   "metadata": {},
   "outputs": [],
   "source": [
    "from random import random \n",
    "f = lambda x: 1/np.sqrt(x)/(np.exp(x)+1)\n",
    "w = lambda x: 1/np.sqrt(x)\n",
    "p = lambda x: x**2\n",
    "\n",
    "def IMC(N):\n",
    "    const = quad(w, 0, 1)[0]\n",
    "    I = 0\n",
    "    for i in range(N):\n",
    "        x = random()\n",
    "        y = p(x)\n",
    "        I += f(y)/w(y)\n",
    "    return I/N*const\n",
    "\n",
    "#print(IMC2(100))"
   ]
  },
  {
   "cell_type": "code",
   "execution_count": 4,
   "metadata": {},
   "outputs": [],
   "source": [
    "def MC(N):\n",
    "    I = 0\n",
    "    for i in range(N):\n",
    "        x = random()\n",
    "        I += f(x)\n",
    "    return I/N\n",
    "#print(MC(100))"
   ]
  },
  {
   "cell_type": "code",
   "execution_count": 5,
   "metadata": {},
   "outputs": [
    {
     "data": {
      "text/plain": [
       "<matplotlib.legend.Legend at 0x110884cc0>"
      ]
     },
     "execution_count": 5,
     "metadata": {},
     "output_type": "execute_result"
    },
    {
     "data": {
      "image/png": "[encoded data removed]",
      "text/plain": [
       "<Figure size 432x288 with 1 Axes>"
      ]
     },
     "metadata": {
      "needs_background": "light"
     },
     "output_type": "display_data"
    }
   ],
   "source": [
    "N = 1000\n",
    "res_IMC = []\n",
    "res_MC = []\n",
    "for i in range(100):\n",
    "    res_IMC.append(IMC(N))\n",
    "    res_MC.append(MC(N))\n",
    "\n",
    "plt.plot(res_IMC, label='IMC')\n",
    "plt.plot(res_MC, label='MC')\n",
    "plt.legend()"
   ]
  },
  {
   "cell_type": "code",
   "execution_count": null,
   "metadata": {},
   "outputs": [],
   "source": []
  }
 ],
 "metadata": {
  "kernelspec": {
   "display_name": "Python 3",
   "language": "python",
   "name": "python3"
  },
  "language_info": {
   "codemirror_mode": {
    "name": "ipython",
    "version": 3
   },
   "file_extension": ".py",
   "mimetype": "text/x-python",
   "name": "python",
   "nbconvert_exporter": "python",
   "pygments_lexer": "ipython3",
   "version": "3.7.0"
  }
 },
 "nbformat": 4,
 "nbformat_minor": 2
}
