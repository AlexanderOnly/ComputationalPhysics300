{
 "cells": [
  {
   "cell_type": "markdown",
   "metadata": {},
   "source": [
    "# Physics 300 \n",
    "## Computational Physics I (Fall 2017)\n",
    "## BPB-248, Tues/Thurs 10:00 - 11:15 am \n",
    "\n",
    "|Instructor| Prof. Qiang Zhu|\n",
    "|--|-------------------------------|\n",
    "|Email | qiang.zhu@unlv.edu|\n",
    "|Website|http://www.physics.unlv.edu/~qzhu/|\n",
    "|Office| BPB 232|\n",
    "|Office hours | Tues/Thurs 8:30 - 10:00 |"
   ]
  },
  {
   "cell_type": "markdown",
   "metadata": {},
   "source": [
    "# 20 Global Optmization (II)\n",
    "## 20.1 Many atoms with Lennard Jone potential\n",
    "We have learned in the previous lecture that the interatomic pair could be described by a simple Lennard Jones formula:\n",
    "\n",
    "$$ V = 4\\epsilon \\big[ \\big(\\frac{\\delta}{r}\\big)^{12} - \\big(\\frac{\\delta}{r}\\big)^{6} \\big]$$\n",
    "\n",
    "Suppose we have $N$ atoms to consider, \n",
    "\n",
    "__Question__: how many atomic pairs will we have?\n",
    "\n",
    "\n",
    "there will be $N\\times(N-1)/2$ pairs to consider. For each pair, we need to\n",
    "calculate the distance $r$, and then evaluate the energy according the LJ formula\n",
    "\n",
    "### Cambridge cluster database\n",
    "\n",
    "Global optimization of LJ clusters has been one of the most interesting subject in computational physics/chemistry community. It has become a gold standard test bed when people wants to propose a new method.\n",
    "\n",
    "Below is link to those reported geometry and energy values collected by Wales'group in Cambridge.\n",
    "\n",
    "- [N = 1-150](http://doye.chem.ox.ac.uk/jon/structures/LJ/tables.150.html)\n",
    "- [N = 310-561](http://doye.chem.ox.ac.uk/jon/structures/LJ/LJ310-561.html) \n",
    "\n"
   ]
  },
  {
   "cell_type": "code",
   "execution_count": 6,
   "metadata": {
    "collapsed": true
   },
   "outputs": [],
   "source": [
    "import numpy as np\n",
    "\n",
    "def LJ(r):\n",
    "    r6 = r**6\n",
    "    r12 = r6*r6\n",
    "    return 4*(1/r12 - 1/r6)\n",
    "\n",
    "def total_energy(positions):\n",
    "    \"\"\"\n",
    "    Calculate the total energy\n",
    "    input:\n",
    "    positions: 3*N array which represents the atomic positions\n",
    "    output\n",
    "    E: the total energy\n",
    "    \"\"\"\n",
    "    E = 0\n",
    "    N_atom = int(len(positions)/3)\n",
    "\n",
    "    #positions = [x0, y0, z0, x1, y1, z1, .....  , xn, yn, zn]\n",
    "    for i in range(N_atom-1):\n",
    "        for j in range(i+1, N_atom):\n",
    "            pos1 = positions[i*3:(i+1)*3]\n",
    "            pos2 = positions[j*3:(j+1)*3]\n",
    "            #print('pos1:  ', pos1)\n",
    "            #print('pos2:  ', pos2)\n",
    "            dist = np.linalg.norm(pos1-pos2)\n",
    "            #print(i,j, dist)\n",
    "            E += LJ(dist)\n",
    "    return E\n",
    "            \n",
    "def init_pos(N, L=5):\n",
    "    return L*np.random.random_sample((N*3,))\n",
    "            "
   ]
  },
  {
   "cell_type": "code",
   "execution_count": 2,
   "metadata": {},
   "outputs": [
    {
     "data": {
      "text/plain": [
       "-0.20736798864435674"
      ]
     },
     "execution_count": 2,
     "metadata": {},
     "output_type": "execute_result"
    }
   ],
   "source": [
    "#now we can deal with many atoms\n",
    "pos = init_pos(5)\n",
    "total_energy(pos)"
   ]
  },
  {
   "cell_type": "code",
   "execution_count": 6,
   "metadata": {},
   "outputs": [
    {
     "name": "stdout",
     "output_type": "stream",
     "text": [
      "[[ 0.  1.]\n",
      " [ 1.  0.]]\n"
     ]
    }
   ],
   "source": [
    "from scipy.spatial.distance import cdist\n",
    "import numpy as np\n",
    "\n",
    "a = np.array([[0,0,0],[0,1,0]])\n",
    "b = np.array([[0,0,0],[0,1,0]])\n",
    "\n",
    "c = cdist(a,b)\n",
    "print(c)"
   ]
  },
  {
   "cell_type": "code",
   "execution_count": 3,
   "metadata": {},
   "outputs": [
    {
     "data": {
      "text/plain": [
       "-9.1038524156813647"
      ]
     },
     "execution_count": 3,
     "metadata": {},
     "output_type": "execute_result"
    }
   ],
   "source": [
    "#below are some reference values from Cambridge Cluster database,\n",
    "#http://doye.chem.ox.ac.uk/jon/structures/LJ/tables.150.html\n",
    "#please try to download some values from there and check if the results are consistent\n",
    "\n",
    "#pos =np.array([  -0.3616353090,        0.0439914505,        0.5828840628,\n",
    "#                  0.2505889242,        0.6193583398,       -0.1614607010,\n",
    "#                 -0.4082757926,       -0.2212115329,       -0.5067996704,\n",
    "#                  0.5193221773,       -0.4421382574,        0.08537630870])\n",
    "#pos =np.array([ -0.2604720088,        0.7363147287,        0.4727061929,\n",
    "#                 0.2604716550,       -0.7363150782,       -0.4727063011,\n",
    "#                -0.4144908003,       -0.3652598516,        0.3405559620,\n",
    "#                -0.1944131041,        0.2843471802,       -0.5500413671,\n",
    "#                 0.6089042582,        0.0809130209,        0.2094855133])\n",
    "\n",
    "#pos = np.array([ 0.7430002202,        0.2647603899,       -0.0468575389,\n",
    "#                -0.7430002647,       -0.2647604843,        0.0468569750,\n",
    "#                 0.1977276118,       -0.4447220146,        0.6224700350,\n",
    "#                -0.1977281310,        0.4447221826,       -0.6224697723,\n",
    "#                -0.1822009635,        0.5970484122,        0.4844363476,\n",
    "#                 0.1822015272,       -0.5970484858,       -0.4844360463])\n",
    "total_energy(pos)"
   ]
  },
  {
   "cell_type": "markdown",
   "metadata": {},
   "source": [
    "### Quiz\n",
    "Any elegant way to download data, and run it directly?"
   ]
  },
  {
   "cell_type": "code",
   "execution_count": 12,
   "metadata": {
    "collapsed": true
   },
   "outputs": [],
   "source": [
    "import numpy as np\n",
    "import requests\n",
    "\n",
    "def get_pos_from_url(address='http://doye.chem.ox.ac.uk/jon/structures/LJ/points/', N=7):\n",
    "    url_address = address + str(N)\n",
    "    data_str = requests.get(url_address).text\n",
    "    return parse_url_text(data_str)    \n",
    "    \n",
    "def parse_url_text(data_str):\n",
    "    x_array = []\n",
    "    text = data_str.split('\\n')\n",
    "    for line in text:\n",
    "        [x_array.append(float(i)) for i in line.split()]\n",
    "    return np.array(x_array)\n"
   ]
  },
  {
   "cell_type": "code",
   "execution_count": 13,
   "metadata": {},
   "outputs": [
    {
     "data": {
      "text/plain": [
       "-12.712062256782637"
      ]
     },
     "execution_count": 13,
     "metadata": {},
     "output_type": "execute_result"
    }
   ],
   "source": [
    "pos = get_pos_from_url(N=6)\n",
    "total_energy(pos)"
   ]
  },
  {
   "cell_type": "code",
   "execution_count": 8,
   "metadata": {},
   "outputs": [
    {
     "data": {
      "text/plain": [
       "-12.712062256782637"
      ]
     },
     "execution_count": 8,
     "metadata": {},
     "output_type": "execute_result"
    }
   ],
   "source": [
    "#Another simpler way to read from url\n",
    "import pandas as pd\n",
    "import numpy as np\n",
    "# Load dataset\n",
    "N=6\n",
    "url = \"http://doye.chem.ox.ac.uk/jon/structures/LJ/points/\"+str(N)\n",
    "names = ['x', 'y', 'z']\n",
    "dataset = pd.read_csv(url, names=names, delim_whitespace=True)\n",
    "pos = dataset.values\n",
    "pos = np.reshape(pos, [N*3,1])\n",
    "total_energy(pos)\n"
   ]
  },
  {
   "cell_type": "markdown",
   "metadata": {},
   "source": [
    "## 20.2 Global optimization on LJ Clusters\n",
    "\n",
    "Since we now know how to evaluate the energy for LJ clusters with any arbitray number, let's proceed to run global minimizations to find the ground state configurations. Try to compare your results with the Cambridge database, and see if you get the right values.\n",
    "### 20.2.1 one step optimization"
   ]
  },
  {
   "cell_type": "code",
   "execution_count": 8,
   "metadata": {
    "collapsed": true
   },
   "outputs": [],
   "source": [
    "from scipy.optimize import minimize\n",
    "\n",
    "pos = init_pos(8)\n",
    "res = minimize(total_energy, pos, method='CG', tol=1e-4)"
   ]
  },
  {
   "cell_type": "markdown",
   "metadata": {},
   "source": [
    "### 20.2.2 multiple steps optimization"
   ]
  },
  {
   "cell_type": "code",
   "execution_count": 14,
   "metadata": {},
   "outputs": [
    {
     "name": "stdout",
     "output_type": "stream",
     "text": [
      "step:  0   values: -12.302927529480455\n",
      "step:  10   values: -12.302927529168523\n",
      "step:  20   values: -12.30292752932958\n",
      "step:  30   values: -12.302927529342707\n",
      "step:  40   values: -12.302927529363993\n",
      "The global minimum:   -12.712062256791272\n"
     ]
    }
   ],
   "source": [
    "from scipy.optimize import minimize\n",
    "\n",
    "f_values = []\n",
    "x_values = []\n",
    "N_attempts = 50\n",
    "N_atom = 6\n",
    "for i in range(N_attempts):\n",
    "    pos = init_pos(N_atom)\n",
    "    res = minimize(total_energy, pos, method='CG', tol=1e-4)\n",
    "    f_values.append(res.fun)\n",
    "    x_values.append(res.x)\n",
    "    if i%10==0:\n",
    "        print('step: ', i, '  values:', res.fun)\n",
    "\n",
    "print('The global minimum:  ', min(f_values))"
   ]
  },
  {
   "cell_type": "markdown",
   "metadata": {},
   "source": [
    "### 20.2.1 Statistics\n",
    "In addition to find the global minimum, we can also do some statistic analysis on the local minimum identified in each system. This could give us some rough ideas about the whole picture, or more precisely, energy landscape."
   ]
  },
  {
   "cell_type": "code",
   "execution_count": 15,
   "metadata": {},
   "outputs": [
    {
     "data": {
      "image/png": "[encoded data removed]",
      "text/plain": [
       "<matplotlib.figure.Figure at 0x10f0ea588>"
      ]
     },
     "metadata": {},
     "output_type": "display_data"
    }
   ],
   "source": [
    "import matplotlib.pyplot as plt\n",
    "plt.title('LJ cluster:  '+ str(N_attempts)+ ' runs;  for N = ' + str(N_atom)+' atoms')\n",
    "plt.hist(f_values,50)\n",
    "plt.show()"
   ]
  },
  {
   "cell_type": "markdown",
   "metadata": {},
   "source": [
    "## 20.3 Homework\n",
    "\n",
    "Try different minimization methods in scipy on larger systems ($N$ up to 20), and show \n",
    "- 1 the average number of attempts to find the ground state\n",
    "- 2 the time costs\n",
    "\n",
    "\n",
    "### Optional\n",
    "try to improve the code to make it run faster, analyze the most time consuming part and give your solution\n"
   ]
  },
  {
   "cell_type": "markdown",
   "metadata": {
    "collapsed": true
   },
   "source": [
    "# Appendix\n",
    "\n",
    "The calculation of LJ energy could become a problem when the number of atoms becomes large. A simple vecterization of the total energy could be very helpful. Below is the code contributed by David in the class.\n"
   ]
  },
  {
   "cell_type": "code",
   "execution_count": 1,
   "metadata": {
    "collapsed": true
   },
   "outputs": [],
   "source": [
    "import numpy as np\n",
    "from scipy.spatial.distance import cdist\n",
    "from scipy.optimize import minimize\n",
    "import requests\n",
    "\n",
    "def get_pos_from_url(address='http://doye.chem.ox.ac.uk/jon/structures/LJ/points/', N=7):\n",
    "    url_address = address + str(N)\n",
    "    data_str = requests.get(url_address).text\n",
    "    return parse_url_text(data_str)    \n",
    "    \n",
    "def parse_url_text(data_str):\n",
    "    x_array = []\n",
    "    text = data_str.split('\\n')\n",
    "    for line in text:\n",
    "        [x_array.append(float(i)) for i in line.split()]\n",
    "    return np.array(x_array)\n",
    "\n",
    "def dist(N_atoms):\n",
    "    pos = get_pos_from_url(N = N_atoms)\n",
    "    pos = np.reshape(pos,[N_atoms,3])\n",
    "    #pos = 10*np.random.random(N_atoms*3)\n",
    "    #pos = np.reshape(pos,[N_atoms,3])\n",
    "    distance = cdist(pos,pos,'euclidean')\n",
    "    iu1 = np.triu_indices(N_atoms)\n",
    "    distance = distance[iu1]\n",
    "    index = np.argwhere(distance==0)\n",
    "    distance = np.delete(distance,index)\n",
    "    return distance\n",
    "    \n",
    "def LJ(r):\n",
    "    r6 = np.power(r,6)\n",
    "    r12 = np.multiply(r6,r6)\n",
    "    return 4*(1/r12 - 1/r6)\n",
    "    \n",
    "def Total_Energy(positions):\n",
    "\n",
    "    E = LJ(positions)\n",
    "    Energy = np.sum(E)\n",
    "    return Energy\n",
    "\n",
    "N_attempts = 50\n",
    "f_values = []\n",
    "x_values = []\n",
    "\n",
    "\n",
    "def ground_state_potential(N_atom):\n",
    "    pos = dist(N_atom)\n",
    "    for i in range(N_attempts):\n",
    "        \n",
    "        res = minimize(Total_Energy, pos, method='CG', tol=1e-4)\n",
    "        f_values.append(res.fun)\n",
    "        x_values.append(res.x)\n",
    "        #if i%10==0:\n",
    "         #   print('step: ', i, '  values:', res.fun)\n",
    "\n",
    "    print('The ground state potential is:  ', min(f_values))"
   ]
  },
  {
   "cell_type": "code",
   "execution_count": 2,
   "metadata": {},
   "outputs": [
    {
     "name": "stdout",
     "output_type": "stream",
     "text": [
      "The ground state potential is:   -14.999999999889264\n"
     ]
    }
   ],
   "source": [
    "ground_state_potential(6)"
   ]
  },
  {
   "cell_type": "code",
   "execution_count": null,
   "metadata": {
    "collapsed": true
   },
   "outputs": [],
   "source": []
  }
 ],
 "metadata": {
  "kernelspec": {
   "display_name": "Python 3",
   "language": "python",
   "name": "python3"
  },
  "language_info": {
   "codemirror_mode": {
    "name": "ipython",
    "version": 3
   },
   "file_extension": ".py",
   "mimetype": "text/x-python",
   "name": "python",
   "nbconvert_exporter": "python",
   "pygments_lexer": "ipython3",
   "version": "3.6.0"
  }
 },
 "nbformat": 4,
 "nbformat_minor": 2
}
