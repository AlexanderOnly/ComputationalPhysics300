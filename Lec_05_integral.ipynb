{
 "cells": [
  {
   "cell_type": "markdown",
   "metadata": {},
   "source": [
    "# Physics 300 \n",
    "## Computational Physics I (Fall 2017)\n",
    "## BPB-248, Tues/Thurs 10:00 - 11:15 am \n",
    "\n",
    "|Instructor| Prof. Qiang Zhu|\n",
    "|--|-------------------------------|\n",
    "|Email | qiang.zhu@unlv.edu|\n",
    "|Website|http://www.physics.unlv.edu/~qzhu/|\n",
    "|Office| BPB 232|\n",
    "|Office hours | Tues/Thurs 8:30 - 10:00 |"
   ]
  },
  {
   "cell_type": "markdown",
   "metadata": {},
   "source": [
    "# 5 Integrals\n",
    "In the following lecture, we will start to learn about the ideas of computational physics and \n",
    "apply the python programing to solve the real problems.\n",
    "\n",
    "One of the most basic but also most important applications of computers\n",
    "in physics is the evaluation of integrals and derivatives.\n",
    "\n",
    "As we have learned in the calculus class, we can derive the analytical integrals for a lot of functions \n",
    "such as linear, quadratic, ploynomial, triangle functions. But most of functions cannot. \n",
    "__They can, however, almost always be done on a computer.__\n"
   ]
  },
  {
   "cell_type": "code",
   "execution_count": 34,
   "metadata": {},
   "outputs": [
    {
     "data": {
      "image/png": "[encoded data removed]",
      "text/plain": [
       "<matplotlib.figure.Figure at 0x24c98b30a20>"
      ]
     },
     "metadata": {},
     "output_type": "display_data"
    }
   ],
   "source": [
    "# Let's start with a simple example, try to do integration on x^2 over [0,3]\n",
    "import matplotlib.pyplot as plt\n",
    "import numpy as np\n",
    "\n",
    "x = np.linspace(0,3,100)\n",
    "y = x*x\n",
    "plt.plot(x,y)\n",
    "plt.xlabel('x')\n",
    "plt.ylabel('$x^2$')\n",
    "plt.xlim([0,3])\n",
    "plt.show()"
   ]
  },
  {
   "cell_type": "code",
   "execution_count": 35,
   "metadata": {},
   "outputs": [
    {
     "data": {
      "image/png": "[encoded data removed]",
      "text/plain": [
       "<matplotlib.figure.Figure at 0x24c988307f0>"
      ]
     },
     "metadata": {},
     "output_type": "display_data"
    }
   ],
   "source": [
    "# Mathematically, the integral means the area under the curve\n",
    "x = np.linspace(0,3,100)\n",
    "y = x*x\n",
    "y0 = np.zeros(100)\n",
    "plt.plot(x,y)\n",
    "plt.xlabel('x')\n",
    "plt.ylabel('$x^2$')\n",
    "plt.xlim([0,3])\n",
    "plt.fill_between(x, y0, y, where=y>=y0, facecolor='green')\n",
    "plt.show()"
   ]
  },
  {
   "cell_type": "markdown",
   "metadata": {},
   "source": [
    "## Mathematically, the integral means the area under the curve\n",
    "\n",
    "Suppose we have a function $f(x)$ and we want to calculate its integral with\n",
    "respect to $x$ from $x$ = a to $x$ = b, which we denote I(a, b):\n",
    "\n",
    "$$ I(a,b) = \\int_a^b f(x)dx $$\n",
    "\n",
    "This is equivalent to calculating the area under the curve of f(x) from a to b.\n",
    "There is no known way to calculate such an area exactly in all cases on a computer.\n",
    "\n",
    "- how to estimate the area?\n",
    "- how to make it as accurate as possible?"
   ]
  },
  {
   "cell_type": "markdown",
   "metadata": {},
   "source": [
    "## 5.1 Rectangle rules\n",
    "\n",
    "The most straightforward way is to:\n",
    "- divide the area up into rectangular slices, \n",
    "- calculate the area of each one\n",
    "- add them up. \n",
    "\n",
    "This, however, is a pretty poor approximation. The area\n",
    "under the rectangles is not very close to the area under the curve."
   ]
  },
  {
   "cell_type": "code",
   "execution_count": 1,
   "metadata": {
    "collapsed": true
   },
   "outputs": [],
   "source": [
    "import numpy as np\n",
    "import matplotlib.pyplot as plt\n",
    "\n",
    "def Rectangle(start, end, parts, plot=1):\n",
    "    \"\"\"\n",
    "    Rectrangle sum rule\n",
    "    \n",
    "    \"\"\"\n",
    "    #define the function\n",
    "    f = lambda x: x * x  \n",
    "    \n",
    "    #define the X,Y points\n",
    "    deltax = (end - start) / parts\n",
    "    resultsx = np.linspace(start, end, parts)\n",
    "    resultsy = f(resultsx)\n",
    "    \n",
    "    # To calculate the area\n",
    "    area = np.empty([parts], float)\n",
    "    for i in range(parts):\n",
    "            area[i] = resultsy[i] * deltax\n",
    "    \n",
    "\n",
    "    # By default, we also output the plot.\n",
    "    if plot==1:\n",
    "        x = np.linspace(start,end,100)\n",
    "        y = x*x        \n",
    "        plt.plot(x, y, 'r')\n",
    "        #plt.xlim([start,end])\n",
    "        plt.bar(resultsx+deltax/2, resultsy, deltax, edgecolor ='black')\n",
    "        #plt.bar(resultsx, resultsy, deltax, edgecolor ='black')\n",
    "        plt.show()\n",
    "        print(\"The Sum of the area is: \", sum(area))\n",
    "    \n",
    "    return sum(area)"
   ]
  },
  {
   "cell_type": "code",
   "execution_count": 2,
   "metadata": {},
   "outputs": [
    {
     "data": {
      "image/png": "[encoded data removed]",
      "text/plain": [
       "<matplotlib.figure.Figure at 0x1056ff5c0>"
      ]
     },
     "metadata": {},
     "output_type": "display_data"
    },
    {
     "name": "stdout",
     "output_type": "stream",
     "text": [
      "The Sum of the area is:  9.5\n"
     ]
    },
    {
     "data": {
      "text/plain": [
       "9.4999999999999982"
      ]
     },
     "execution_count": 2,
     "metadata": {},
     "output_type": "execute_result"
    }
   ],
   "source": [
    "Rectangle(0,3,10)"
   ]
  },
  {
   "cell_type": "code",
   "execution_count": 3,
   "metadata": {},
   "outputs": [
    {
     "data": {
      "image/png": "[encoded data removed]",
      "text/plain": [
       "<matplotlib.figure.Figure at 0x1056ff588>"
      ]
     },
     "metadata": {},
     "output_type": "display_data"
    },
    {
     "name": "stdout",
     "output_type": "stream",
     "text": [
      "The Sum of the area is:  9.23684210526\n"
     ]
    },
    {
     "data": {
      "text/plain": [
       "9.2368421052631557"
      ]
     },
     "execution_count": 3,
     "metadata": {},
     "output_type": "execute_result"
    }
   ],
   "source": [
    "Rectangle(0,3,20)"
   ]
  },
  {
   "cell_type": "markdown",
   "metadata": {},
   "source": [
    "## 5.2 The Trapezoidal rule\n",
    "\n",
    "The rectangle approximation is easy to calculate. This, however, is a pretty poor approximation. The area\n",
    "under the rectangles is not very close to the area under the curve.\n",
    "\n",
    "A better approach is to use the trapezoids rather than rectangles.\n",
    "The area under the trapezoids is a considerably better approximation to the\n",
    "area under the curve, and this approach, though simple, often gives perfectly\n",
    "adequate results.\n"
   ]
  },
  {
   "cell_type": "code",
   "execution_count": 40,
   "metadata": {
    "collapsed": true
   },
   "outputs": [],
   "source": [
    "import numpy as np\n",
    "import matplotlib.pyplot as plt\n",
    "\n",
    "def Trapezoid(start, end, parts, plot=1):\n",
    "    \"\"\"\n",
    "    Trapezoid sum rule\n",
    "    \n",
    "    \"\"\"\n",
    "    #define the function\n",
    "    f = lambda x: x * x  \n",
    "    \n",
    "    #define the X, Y points \n",
    "    deltax = (end - start) / parts\n",
    "    resultsx = np.linspace(start, end, parts+1)\n",
    "    resultsy = f(resultsx)\n",
    "\n",
    "    # To calculate the area\n",
    "    area = np.empty([parts], float)\n",
    "    for i in range(parts):\n",
    "            area[i] = (resultsy[i]+resultsy[i+1]) * deltax/2\n",
    "\n",
    "    # By default, we also output the plot.\n",
    "    if plot==1:\n",
    "        x = np.linspace(start,end,100)\n",
    "        y = f(x)        \n",
    "        plt.plot(x, y, 'r')\n",
    "        plt.xlim([start,end])\n",
    "        \n",
    "        y2 = np.array([0,0])\n",
    "        for i in range(parts):\n",
    "            x0 = resultsx[i:i+2]\n",
    "            y1 = resultsy[i:i+2]\n",
    "            plt.fill_between(x0, y1, y2, where=y1>=y2, facecolor='blue')\n",
    "            linex, liney = [resultsx[i+1], resultsx[i+1]], [0, resultsy[i+1]]\n",
    "            plt.plot(linex, liney, color='black', linewidth=2.0)        \n",
    "        \n",
    "        plt.show()\n",
    "        print(\"The Sum of the area is: \", sum(area))\n",
    "    \n",
    "    return sum(area)"
   ]
  },
  {
   "cell_type": "code",
   "execution_count": 41,
   "metadata": {},
   "outputs": [
    {
     "data": {
      "image/png": "[encoded data removed]",
      "text/plain": [
       "<matplotlib.figure.Figure at 0x24c98e4cd68>"
      ]
     },
     "metadata": {},
     "output_type": "display_data"
    },
    {
     "name": "stdout",
     "output_type": "stream",
     "text": [
      "The Sum of the area is:  9.18\n"
     ]
    },
    {
     "data": {
      "text/plain": [
       "9.1799999999999997"
      ]
     },
     "execution_count": 41,
     "metadata": {},
     "output_type": "execute_result"
    }
   ],
   "source": [
    "Trapezoid(0,3,5)"
   ]
  },
  {
   "cell_type": "code",
   "execution_count": 97,
   "metadata": {},
   "outputs": [
    {
     "data": {
      "image/png": "[encoded data removed]",
      "text/plain": [
       "<matplotlib.figure.Figure at 0x188be8a3ac8>"
      ]
     },
     "metadata": {},
     "output_type": "display_data"
    },
    {
     "name": "stdout",
     "output_type": "stream",
     "text": [
      "The Sum of the area is:  9.045\n"
     ]
    },
    {
     "data": {
      "text/plain": [
       "9.0449999999999999"
      ]
     },
     "execution_count": 97,
     "metadata": {},
     "output_type": "execute_result"
    }
   ],
   "source": [
    "Trapezoid(0,3,10)"
   ]
  },
  {
   "cell_type": "markdown",
   "metadata": {},
   "source": [
    "## 5.3 The Simpson’s rule\n",
    "\n",
    "The trapezoidal rule is simple, taking only a few lines of code as we have seen. \n",
    "And it is often perfectly adequate for calculations where no great accuracy is required. \n",
    "It happens frequently in physics calculations that we don’t need an answer accurate to many significant\n",
    "figures and in such cases the ease and simplicity of the trapezoidal rule can\n",
    "make it the method of choice. \n",
    "\n",
    "However, there are also cases where greater accuracy is required. \n",
    "\n",
    "As we have seen we can increase the accuracy of the trapezoidal rule by _increasing the number N of steps used in the calculation_. \n",
    "\n",
    "But in some cases, _the calculation can become slow_.\n",
    "\n",
    "There are other, more advanced schemes for calculating integrals\n",
    "that can achieve high accuracy while still arriving at an answer quickly. \n",
    "\n",
    "We can often get a better result if we approximate the function instead with curves of some kind.\n",
    "\n",
    "Simpson’s rule does exactly this, using quadratic curves.\n",
    "\n",
    "In order to specify a quadratic completely \n",
    "\n",
    "__one needs three points, not just two as with a straight line.__\n",
    "\n",
    "Suppose, as before, that our integrand is denoted f(x) and the spacing of\n",
    "adjacent points is $h$. And suppose for the purposes of argument that we have\n",
    "three points at $x$ = −h, 0, and +h. If we fit a quadratic $Ax^2 + Bx + C$ through\n",
    "these points, then by definition we will have:\n",
    "\n",
    "$$f(-h) = Ah^2 - Bh + C$$\n",
    "$$f(0) = C$$ \n",
    "$$f(h) = Ah^2 + Bh + C$$\n",
    "\n",
    "Solving these equations gives\n",
    "\n",
    "$$ A = \\frac{1}{h^2}[\\frac{f(-h)}{2} - f(0) + \\frac{f(h)}{2}]$$\n",
    "$$ B=\\frac{1}{2h}[f(h)-f(-h)] $$ \n",
    "$$ C = f(0)$$\n",
    "\n",
    "and the area under the curve of f(x) from −h to +h is given approximately by\n",
    "the area under the quadratic:\n",
    "\n",
    "$$ \\int^h_{-h} (Ax^2 + Bx + C) dx = \\frac{2}{3}Ah^3 + 2Ch = \\frac{1}{3}h[f(-h)+4f(0)+f(h)]$$\n",
    "\n",
    "This is _Simpson’s_ rule. It gives us an approximation to the area under two adjacent\n",
    "slices of our function. Note that the final formula for the area involves\n",
    "only h and the value of the function at evenly spaced points, just as with the\n",
    "trapezoidal rule. So to use Simpson’s rule we don’t actually have to worry\n",
    "about the details of fitting a quadratic—we just plug numbers into this formula\n",
    "and it gives us an answer.\n",
    "\n",
    "\n",
    "Applying Simpson’s rule involves dividing\n",
    "the domain of integration into many slices and using the rule to separately\n",
    "estimate the area under successive pairs of slices, then adding the estimates\n",
    "for all pairs to get the final answer. If, as before, we are integrating from $x$ = a\n",
    "to $x$ = b in slices of width $h$ then the three points bounding the first pair of\n",
    "slices fall at $x = a, a + h, a + 2h$, those bounding the second pair at $a + 2h,\n",
    "a + 3h, a + 4h$, and so forth. Then the approximate value of the entire integral\n",
    "is given by\n",
    "\n",
    "$$ \n",
    "\\begin{aligned}\n",
    "I(a,b) \\approx & \\frac{1}{3}h[f(a)+4f(a+h)+f(a+2h)] \\\\\n",
    "               & \\frac{1}{3}h[f(a+2h)+4f(a+3h)+f(a+4h)] \\\\\n",
    "               &  ...\\\\\n",
    "               &  ...\\\\\n",
    "               & \\frac{1}{3}h[f(a+(N-2)h)+4f(a+(N-1)h)+f(b)] \n",
    "\\end{aligned}\n",
    "$$\n",
    "\n",
    "see more details in: https://en.wikipedia.org/wiki/Simpson%27s_rule"
   ]
  },
  {
   "cell_type": "code",
   "execution_count": 5,
   "metadata": {
    "collapsed": true
   },
   "outputs": [],
   "source": [
    "import numpy as np\n",
    "import matplotlib.pyplot as plt\n",
    "\n",
    "def Simpson(start, end, parts, plot=1):\n",
    "    \"\"\"\n",
    "    Simpson sum rule\n",
    "    \n",
    "    \"\"\"\n",
    "    #define the function\n",
    "    f = lambda x: x**4 - 2*x + 1  \n",
    "    \n",
    "    #define the X, Y points \n",
    "    deltax = (end - start) / parts\n",
    "    resultsx = np.linspace(start, end, parts+1)\n",
    "    resultsy = f(resultsx)\n",
    "\n",
    "    #-----------------------------------------------------\n",
    "    #define the Simpson points and calculate the area here\n",
    "    #-----------------------------------------------------\n",
    "    area = []\n",
    "\n",
    "    #By default, we also output the plot.\n",
    "    if plot==1:\n",
    "        x = np.linspace(start,end,100)\n",
    "        y = f(x)        \n",
    "        plt.plot(x, y, 'r')\n",
    "        \n",
    "        #-----------------------------------------------------\n",
    "        #draw the curves based on Simpson points here\n",
    "        #-----------------------------------------------------             \n",
    "    \n",
    "        plt.xlim([start,end])\n",
    "        plt.ylim([min(y),max(y)])\n",
    "        plt.show()\n",
    "    \n",
    "    return sum(area)\n"
   ]
  },
  {
   "cell_type": "code",
   "execution_count": 33,
   "metadata": {},
   "outputs": [
    {
     "data": {
      "text/plain": [
       "0"
      ]
     },
     "execution_count": 33,
     "metadata": {},
     "output_type": "execute_result"
    }
   ],
   "source": [
    "Simpson(0, 2, 10)"
   ]
  },
  {
   "cell_type": "markdown",
   "metadata": {},
   "source": [
    "## 5.4 Futher expansion to higher order: \n",
    "As we have seen, the trapezoidal rule is based on approximating an integrand\n",
    "$f(x)$ with straight-line segments, while Simpson’s rule uses quadratics.\n",
    "We can create higher-order (and hence potentially more accurate) rules by using\n",
    "higher-order polynomials, fitting $f(x)$ with cubics, quartics, and so forth.\n",
    "The general form of the trapezoidal and Simpson rules is\n",
    "\n",
    "$$\\int_a^b f(x)dx \\approx \\sum_{k=1}^{N}w_kf(k)$$\n",
    "\n",
    "where the $x_k$ are the positions of the sample points at which we calculate the\n",
    "integrand and the $w_k$ are some set of weights. \n",
    "\n",
    "- In the trapezoidal rule, the first and last weights are 1/2 and the others are all 1,\n",
    "- In Simpson’s rule the weights are 1/3 for the first and last slices and alternate between 4/3 and 2/3 for the other slices\n",
    "- What will happen on cubic?\n",
    "\n",
    "|Order| Apporximation | Coefficients   |\n",
    "|-----|:-------------:|--------------------------------------------------:|\n",
    "|0    | rectangle     |   1,1,........1,1|\n",
    "|1    | straight line |1/2,1,1,.....1,1/2|\n",
    "|2    | quadratic     |1/3, 4/3, 2/3, ..,4/3,1/3|\n",
    "|3    | cubic         |...................|"
   ]
  },
  {
   "cell_type": "markdown",
   "metadata": {
    "collapsed": true
   },
   "source": [
    "## 5.5 Homework: \n",
    "Calculate the following integral based on three different rules\n",
    "\n",
    "$$\\int_0^3 (x^2-x+1 dx)$$\n",
    "\n",
    "$$\\int_0^3 (x^4-x+1 dx)$$\n",
    "\n",
    "$$\\int_0^3 \\text{exp}(-x^2) dx$$\n",
    "\n",
    "For the 1st one, how many sampling points do you need for Simpson rule?"
   ]
  },
  {
   "cell_type": "markdown",
   "metadata": {},
   "source": [
    "## 5.6 Further reading on uneven sampling and Gaussian Quardrature\n",
    "\n",
    "We have been assuming here that the sample points are evenly spaced. \n",
    "This is easy to program. However, it is also possible to derive integration methods with unevenly spaced points.\n",
    "Sometimes, they can give very accurate answers with only small numbers of points.\n",
    "One of the well known methods called __Gaussian Quardrature__.\n",
    "\n",
    "### Project 1: \n",
    "Write a wiki page to introduce Gaussian Quardrature from the foundamental of mathematics, and give some applications"
   ]
  },
  {
   "cell_type": "code",
   "execution_count": 6,
   "metadata": {},
   "outputs": [
    {
     "name": "stdout",
     "output_type": "stream",
     "text": [
      "8.66666666667\n"
     ]
    }
   ],
   "source": [
    "from numpy import ones,copy,cos,tan,pi,linspace\n",
    "\n",
    "def gaussxw(N):\n",
    "\n",
    "    # Initial approximation to roots of the Legendre polynomial\n",
    "    a = linspace(3,4*N-1,N)/(4*N+2)\n",
    "    x = cos(pi*a+1/(8*N*N*tan(a)))\n",
    "\n",
    "    # Find roots using Newton's method\n",
    "    epsilon = 1e-15\n",
    "    delta = 1.0\n",
    "    while delta>epsilon:\n",
    "        p0 = ones(N,float)\n",
    "        p1 = copy(x)\n",
    "        for k in range(1,N):\n",
    "            p0,p1 = p1,((2*k+1)*x*p1-k*p0)/(k+1)\n",
    "        dp = (N+1)*(p0-x*p1)/(1-x*x)\n",
    "        dx = p1/dp\n",
    "        x -= dx\n",
    "        delta = max(abs(dx))\n",
    "\n",
    "    # Calculate the weights\n",
    "    w = 2*(N+1)*(N+1)/(N*N*(1-x*x)*dp*dp)\n",
    "\n",
    "    return x,w\n",
    "\n",
    "\n",
    "def f(x):\n",
    "    return x**5 - 2*x + 1\n",
    "\n",
    "N = 3\n",
    "a,b = 0.0, 2.0\n",
    "\n",
    "# Calculate the sample points and weights, then map them\n",
    "# to the required integration domain\n",
    "x,w = gaussxw(N)\n",
    "xp = 0.5*(b-a)*x + 0.5*(b+a)\n",
    "wp = 0.5*(b-a)*w\n",
    "\n",
    "# Perform the integration\n",
    "s = 0.0\n",
    "for k in range(N):\n",
    "    s += wp[k]*f(xp[k])\n",
    "print(s)"
   ]
  },
  {
   "cell_type": "code",
   "execution_count": null,
   "metadata": {
    "collapsed": true
   },
   "outputs": [],
   "source": []
  }
 ],
 "metadata": {
  "kernelspec": {
   "display_name": "Python 3",
   "language": "python",
   "name": "python3"
  },
  "language_info": {
   "codemirror_mode": {
    "name": "ipython",
    "version": 3
   },
   "file_extension": ".py",
   "mimetype": "text/x-python",
   "name": "python",
   "nbconvert_exporter": "python",
   "pygments_lexer": "ipython3",
   "version": "3.6.1"
  }
 },
 "nbformat": 4,
 "nbformat_minor": 2
}
